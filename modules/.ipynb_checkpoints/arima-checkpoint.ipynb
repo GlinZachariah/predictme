{
 "cells": [
  {
   "cell_type": "code",
   "execution_count": 41,
   "metadata": {},
   "outputs": [
    {
     "data": {
      "text/plain": [
       "'C:\\\\Users\\\\photon\\\\Documents\\\\dataset'"
      ]
     },
     "execution_count": 41,
     "metadata": {},
     "output_type": "execute_result"
    }
   ],
   "source": [
    "import os;\n",
    "path=\"C:/Users/photon/Documents/dataset\"\n",
    "os.chdir(path)\n",
    "os.getcwd()"
   ]
  },
  {
   "cell_type": "code",
   "execution_count": 42,
   "metadata": {},
   "outputs": [],
   "source": [
    "import pandas\n",
    "import matplotlib.pyplot as plt\n",
    "import numpy as np\n",
    "from statsmodels.tsa.arima_model import ARIMA"
   ]
  },
  {
   "cell_type": "code",
   "execution_count": 43,
   "metadata": {},
   "outputs": [],
   "source": [
    "var=pandas.read_csv('AAPL.csv')\n",
    "price=var['Close']"
   ]
  },
  {
   "cell_type": "code",
   "execution_count": 44,
   "metadata": {},
   "outputs": [
    {
     "data": {
      "image/png": "[encoded data removed]",
      "text/plain": [
       "<Figure size 432x288 with 1 Axes>"
      ]
     },
     "metadata": {
      "needs_background": "light"
     },
     "output_type": "display_data"
    }
   ],
   "source": [
    "lnprice=np.log(price)\n",
    "lnprice\n",
    "plt.plot(lnprice)\n",
    "plt.show()"
   ]
  },
  {
   "cell_type": "code",
   "execution_count": null,
   "metadata": {},
   "outputs": [],
   "source": []
  },
  {
   "cell_type": "code",
   "execution_count": null,
   "metadata": {},
   "outputs": [],
   "source": []
  },
  {
   "cell_type": "code",
   "execution_count": 45,
   "metadata": {},
   "outputs": [
    {
     "name": "stderr",
     "output_type": "stream",
     "text": [
      "C:\\Users\\photon\\Anaconda3\\lib\\site-packages\\ipykernel_launcher.py:1: FutureWarning: Method .as_matrix will be removed in a future version. Use .values instead.\n",
      "  \"\"\"Entry point for launching an IPython kernel.\n"
     ]
    },
    {
     "name": "stdout",
     "output_type": "stream",
     "text": [
      "                             ARIMA Model Results                              \n",
      "==============================================================================\n",
      "Dep. Variable:                   D2.y   No. Observations:                 7378\n",
      "Model:                 ARIMA(5, 2, 0)   Log Likelihood               15255.960\n",
      "Method:                       css-mle   S.D. of innovations              0.031\n",
      "Date:                Wed, 17 Apr 2019   AIC                         -30497.920\n",
      "Time:                        12:10:33   BIC                         -30449.576\n",
      "Sample:                             2   HQIC                        -30481.306\n",
      "                                                                              \n",
      "==============================================================================\n",
      "                 coef    std err          z      P>|z|      [0.025      0.975]\n",
      "------------------------------------------------------------------------------\n",
      "const      -2.589e-07   9.91e-05     -0.003      0.998      -0.000       0.000\n",
      "ar.L1.D2.y    -0.8506      0.011    -74.111      0.000      -0.873      -0.828\n",
      "ar.L2.D2.y    -0.7064      0.015    -48.121      0.000      -0.735      -0.678\n",
      "ar.L3.D2.y    -0.5459      0.016    -35.044      0.000      -0.576      -0.515\n",
      "ar.L4.D2.y    -0.3253      0.015    -22.164      0.000      -0.354      -0.297\n",
      "ar.L5.D2.y    -0.1671      0.011    -14.564      0.000      -0.190      -0.145\n",
      "                                    Roots                                    \n",
      "=============================================================================\n",
      "                  Real          Imaginary           Modulus         Frequency\n",
      "-----------------------------------------------------------------------------\n",
      "AR.1            0.5131           -1.2729j            1.3724           -0.1890\n",
      "AR.2            0.5131           +1.2729j            1.3724            0.1890\n",
      "AR.3           -1.4260           -0.0000j            1.4260           -0.5000\n",
      "AR.4           -0.7733           -1.2766j            1.4925           -0.3367\n",
      "AR.5           -0.7733           +1.2766j            1.4925            0.3367\n",
      "-----------------------------------------------------------------------------\n"
     ]
    },
    {
     "data": {
      "image/png": "[encoded data removed]",
      "text/plain": [
       "<Figure size 432x288 with 1 Axes>"
      ]
     },
     "metadata": {
      "needs_background": "light"
     },
     "output_type": "display_data"
    }
   ],
   "source": [
    "price_matrix=lnprice.as_matrix()\n",
    "model = ARIMA(price_matrix, order=(5,2,0))\n",
    "model_fit = model.fit(disp=0)\n",
    "print(model_fit.summary())\n",
    "prediction=model_fit.predict(7380,7385, typ='levels')\n",
    "predictionadj=np.exp(prediction)\n",
    "plt.plot(predictionadj)\n",
    "plt.title('forecasted price')\n",
    "plt.show()"
   ]
  },
  {
   "cell_type": "code",
   "execution_count": 46,
   "metadata": {},
   "outputs": [
    {
     "data": {
      "text/plain": [
       "array([199.00110173, 198.92984679, 198.6752954 , 198.634889  ,\n",
       "       198.58899327, 198.48373508])"
      ]
     },
     "execution_count": 46,
     "metadata": {},
     "output_type": "execute_result"
    }
   ],
   "source": [
    "predictionadj"
   ]
  },
  {
   "cell_type": "code",
   "execution_count": null,
   "metadata": {},
   "outputs": [],
   "source": []
  }
 ],
 "metadata": {
  "kernelspec": {
   "display_name": "Python 3",
   "language": "python",
   "name": "python3"
  },
  "language_info": {
   "codemirror_mode": {
    "name": "ipython",
    "version": 3
   },
   "file_extension": ".py",
   "mimetype": "text/x-python",
   "name": "python",
   "nbconvert_exporter": "python",
   "pygments_lexer": "ipython3",
   "version": "3.6.7"
  }
 },
 "nbformat": 4,
 "nbformat_minor": 2
}
